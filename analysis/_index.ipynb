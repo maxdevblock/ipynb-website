{
 "cells": [
  {
   "cell_type": "markdown",
   "metadata": {},
   "source": [
    "# Analysis"
   ]
  },
  {
   "cell_type": "markdown",
   "metadata": {},
   "source": [
    "[**A first glance at the Divvy data**](analysis/first-glance.html)<br>\n",
    "&nbsp; &nbsp;**authors:** Peter Carbonetto, Gao Wang"
   ]
  },
  {
   "cell_type": "markdown",
   "metadata": {},
   "source": [
    "[**Divvy usage over the year**](analysis/seasonal-trends.html)<br>\n",
    "&nbsp; &nbsp;**authors:** Peter Carbonetto, Gao Wang"
   ]
  },
  {
   "cell_type": "markdown",
   "metadata": {},
   "source": [
    "[**A map of the Divvy stations in Chicago**](analysis/station-map.html)<br>\n",
    "&nbsp; &nbsp;**authors:** Peter Carbonetto, Gao Wang"
   ]
  },
  {
   "cell_type": "markdown",
   "metadata": {},
   "source": [
    "[**Divvy usage by time-of-day**](analysis/time-of-day-trends.html)<br>\n",
    "&nbsp; &nbsp;**authors:** Peter Carbonetto, Gao Wang"
   ]
  }
 ],
 "metadata": {
  "kernelspec": {
   "display_name": "Python 3",
   "language": "python",
   "name": "python3"
  },
  "language_info": {
   "codemirror_mode": {
    "name": "ipython",
    "version": 3
   },
   "file_extension": ".py",
   "mimetype": "text/x-python",
   "name": "python",
   "nbconvert_exporter": "python",
   "pygments_lexer": "ipython3",
   "version": "3.6.0"
  }
 },
 "nbformat": 4,
 "nbformat_minor": 2
}